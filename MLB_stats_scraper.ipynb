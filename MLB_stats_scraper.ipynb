{
 "cells": [
  {
   "cell_type": "code",
   "execution_count": 1,
   "metadata": {},
   "outputs": [],
   "source": [
    "#############################\n",
    "#          imports          #\n",
    "#############################\n",
    "\n",
    "from bs4 import BeautifulSoup\n",
    "import pandas as pd\n",
    "import numpy as np\n",
    "import requests\n",
    "import pickle\n",
    "import time"
   ]
  },
  {
   "cell_type": "code",
   "execution_count": 31,
   "metadata": {},
   "outputs": [],
   "source": [
    "data = []"
   ]
  },
  {
   "cell_type": "code",
   "execution_count": 32,
   "metadata": {
    "collapsed": true
   },
   "outputs": [
    {
     "name": "stdout",
     "output_type": "stream",
     "text": [
      "http://m.mlb.com/stats/?stat_type=pitching&season=1969&game_type=R&sort_column=era&player_pool=QUALIFIER\n",
      "Responsecode: 200\n",
      "http://m.mlb.com/stats/?stat_type=pitching&season=1970&game_type=R&sort_column=era&player_pool=QUALIFIER\n",
      "Responsecode: 200\n",
      "http://m.mlb.com/stats/?stat_type=pitching&season=1971&game_type=R&sort_column=era&player_pool=QUALIFIER\n",
      "Responsecode: 200\n",
      "http://m.mlb.com/stats/?stat_type=pitching&season=1972&game_type=R&sort_column=era&player_pool=QUALIFIER\n",
      "Responsecode: 200\n",
      "http://m.mlb.com/stats/?stat_type=pitching&season=1973&game_type=R&sort_column=era&player_pool=QUALIFIER\n",
      "Responsecode: 200\n",
      "http://m.mlb.com/stats/?stat_type=pitching&season=1974&game_type=R&sort_column=era&player_pool=QUALIFIER\n",
      "Responsecode: 200\n",
      "http://m.mlb.com/stats/?stat_type=pitching&season=1975&game_type=R&sort_column=era&player_pool=QUALIFIER\n",
      "Responsecode: 200\n",
      "http://m.mlb.com/stats/?stat_type=pitching&season=1976&game_type=R&sort_column=era&player_pool=QUALIFIER\n",
      "Responsecode: 200\n",
      "http://m.mlb.com/stats/?stat_type=pitching&season=1977&game_type=R&sort_column=era&player_pool=QUALIFIER\n",
      "Responsecode: 200\n",
      "http://m.mlb.com/stats/?stat_type=pitching&season=1978&game_type=R&sort_column=era&player_pool=QUALIFIER\n",
      "Responsecode: 200\n",
      "http://m.mlb.com/stats/?stat_type=pitching&season=1979&game_type=R&sort_column=era&player_pool=QUALIFIER\n",
      "Responsecode: 200\n",
      "http://m.mlb.com/stats/?stat_type=pitching&season=1980&game_type=R&sort_column=era&player_pool=QUALIFIER\n",
      "Responsecode: 200\n",
      "http://m.mlb.com/stats/?stat_type=pitching&season=1981&game_type=R&sort_column=era&player_pool=QUALIFIER\n",
      "Responsecode: 200\n",
      "http://m.mlb.com/stats/?stat_type=pitching&season=1982&game_type=R&sort_column=era&player_pool=QUALIFIER\n",
      "Responsecode: 200\n",
      "http://m.mlb.com/stats/?stat_type=pitching&season=1983&game_type=R&sort_column=era&player_pool=QUALIFIER\n",
      "Responsecode: 200\n",
      "http://m.mlb.com/stats/?stat_type=pitching&season=1984&game_type=R&sort_column=era&player_pool=QUALIFIER\n",
      "Responsecode: 200\n",
      "http://m.mlb.com/stats/?stat_type=pitching&season=1985&game_type=R&sort_column=era&player_pool=QUALIFIER\n",
      "Responsecode: 200\n",
      "http://m.mlb.com/stats/?stat_type=pitching&season=1986&game_type=R&sort_column=era&player_pool=QUALIFIER\n",
      "Responsecode: 200\n",
      "http://m.mlb.com/stats/?stat_type=pitching&season=1987&game_type=R&sort_column=era&player_pool=QUALIFIER\n",
      "Responsecode: 200\n",
      "http://m.mlb.com/stats/?stat_type=pitching&season=1988&game_type=R&sort_column=era&player_pool=QUALIFIER\n",
      "Responsecode: 200\n",
      "http://m.mlb.com/stats/?stat_type=pitching&season=1989&game_type=R&sort_column=era&player_pool=QUALIFIER\n",
      "Responsecode: 200\n",
      "http://m.mlb.com/stats/?stat_type=pitching&season=1990&game_type=R&sort_column=era&player_pool=QUALIFIER\n",
      "Responsecode: 200\n",
      "http://m.mlb.com/stats/?stat_type=pitching&season=1991&game_type=R&sort_column=era&player_pool=QUALIFIER\n",
      "Responsecode: 200\n",
      "http://m.mlb.com/stats/?stat_type=pitching&season=1992&game_type=R&sort_column=era&player_pool=QUALIFIER\n",
      "Responsecode: 200\n",
      "http://m.mlb.com/stats/?stat_type=pitching&season=1993&game_type=R&sort_column=era&player_pool=QUALIFIER\n",
      "Responsecode: 200\n",
      "http://m.mlb.com/stats/?stat_type=pitching&season=1994&game_type=R&sort_column=era&player_pool=QUALIFIER\n",
      "Responsecode: 200\n",
      "http://m.mlb.com/stats/?stat_type=pitching&season=1995&game_type=R&sort_column=era&player_pool=QUALIFIER\n",
      "Responsecode: 200\n",
      "http://m.mlb.com/stats/?stat_type=pitching&season=1996&game_type=R&sort_column=era&player_pool=QUALIFIER\n",
      "Responsecode: 200\n",
      "http://m.mlb.com/stats/?stat_type=pitching&season=1997&game_type=R&sort_column=era&player_pool=QUALIFIER\n",
      "Responsecode: 200\n",
      "http://m.mlb.com/stats/?stat_type=pitching&season=1998&game_type=R&sort_column=era&player_pool=QUALIFIER\n",
      "Responsecode: 200\n",
      "http://m.mlb.com/stats/?stat_type=pitching&season=1999&game_type=R&sort_column=era&player_pool=QUALIFIER\n",
      "Responsecode: 200\n",
      "http://m.mlb.com/stats/?stat_type=pitching&season=2000&game_type=R&sort_column=era&player_pool=QUALIFIER\n",
      "Responsecode: 200\n",
      "http://m.mlb.com/stats/?stat_type=pitching&season=2001&game_type=R&sort_column=era&player_pool=QUALIFIER\n",
      "Responsecode: 200\n",
      "http://m.mlb.com/stats/?stat_type=pitching&season=2002&game_type=R&sort_column=era&player_pool=QUALIFIER\n",
      "Responsecode: 200\n",
      "http://m.mlb.com/stats/?stat_type=pitching&season=2003&game_type=R&sort_column=era&player_pool=QUALIFIER\n",
      "Responsecode: 200\n",
      "http://m.mlb.com/stats/?stat_type=pitching&season=2004&game_type=R&sort_column=era&player_pool=QUALIFIER\n",
      "Responsecode: 200\n",
      "http://m.mlb.com/stats/?stat_type=pitching&season=2005&game_type=R&sort_column=era&player_pool=QUALIFIER\n",
      "Responsecode: 200\n",
      "http://m.mlb.com/stats/?stat_type=pitching&season=2006&game_type=R&sort_column=era&player_pool=QUALIFIER\n",
      "Responsecode: 200\n",
      "http://m.mlb.com/stats/?stat_type=pitching&season=2007&game_type=R&sort_column=era&player_pool=QUALIFIER\n",
      "Responsecode: 200\n",
      "http://m.mlb.com/stats/?stat_type=pitching&season=2008&game_type=R&sort_column=era&player_pool=QUALIFIER\n",
      "Responsecode: 200\n",
      "http://m.mlb.com/stats/?stat_type=pitching&season=2009&game_type=R&sort_column=era&player_pool=QUALIFIER\n",
      "Responsecode: 200\n",
      "http://m.mlb.com/stats/?stat_type=pitching&season=2010&game_type=R&sort_column=era&player_pool=QUALIFIER\n",
      "Responsecode: 200\n",
      "http://m.mlb.com/stats/?stat_type=pitching&season=2011&game_type=R&sort_column=era&player_pool=QUALIFIER\n",
      "Responsecode: 200\n",
      "http://m.mlb.com/stats/?stat_type=pitching&season=2012&game_type=R&sort_column=era&player_pool=QUALIFIER\n",
      "Responsecode: 200\n",
      "http://m.mlb.com/stats/?stat_type=pitching&season=2013&game_type=R&sort_column=era&player_pool=QUALIFIER\n",
      "Responsecode: 200\n",
      "http://m.mlb.com/stats/?stat_type=pitching&season=2014&game_type=R&sort_column=era&player_pool=QUALIFIER\n",
      "Responsecode: 200\n",
      "http://m.mlb.com/stats/?stat_type=pitching&season=2015&game_type=R&sort_column=era&player_pool=QUALIFIER\n",
      "Responsecode: 200\n",
      "http://m.mlb.com/stats/?stat_type=pitching&season=2016&game_type=R&sort_column=era&player_pool=QUALIFIER\n",
      "Responsecode: 200\n",
      "http://m.mlb.com/stats/?stat_type=pitching&season=2017&game_type=R&sort_column=era&player_pool=QUALIFIER\n",
      "Responsecode: 200\n",
      "http://m.mlb.com/stats/?stat_type=pitching&season=2018&game_type=R&sort_column=era&player_pool=QUALIFIER\n",
      "Responsecode: 200\n",
      "http://m.mlb.com/stats/?stat_type=pitching&season=2019&game_type=R&sort_column=era&player_pool=QUALIFIER\n",
      "Responsecode: 200\n"
     ]
    }
   ],
   "source": [
    "for season in range(1969,2020):\n",
    "    url = 'http://m.mlb.com/stats/?stat_type=pitching&season={}&game_type=R&sort_column=era&player_pool=QUALIFIER'.format(season)\n",
    "    # print(url)\n",
    "    \n",
    "    response = requests.get(url)\n",
    "    page = response.text\n",
    "    #print('Responsecode: {}'.format(response.status_code))\n",
    "    time.sleep(0.5)\n",
    "    \n",
    "    soup = BeautifulSoup(page,'lxml')\n",
    "    rows = soup.select('tbody tr')\n",
    "    \n",
    "    for row in rows:\n",
    "        columns = row.find_all('td') # Creating a new list of td tags within each tr tag #\n",
    "        columns = [element.text.strip() for element in columns] # Obtaining the text and removing any whitespace #\n",
    "        data.append(columns) # Appending a list which contains each td cell's text to the main list #\n",
    "        time.sleep(1)"
   ]
  },
  {
   "cell_type": "code",
   "execution_count": 33,
   "metadata": {},
   "outputs": [],
   "source": [
    "df = pd.DataFrame(data)"
   ]
  },
  {
   "cell_type": "code",
   "execution_count": 35,
   "metadata": {},
   "outputs": [
    {
     "data": {
      "text/plain": [
       "(2550, 47)"
      ]
     },
     "execution_count": 35,
     "metadata": {},
     "output_type": "execute_result"
    }
   ],
   "source": [
    "df.shape"
   ]
  },
  {
   "cell_type": "code",
   "execution_count": 36,
   "metadata": {},
   "outputs": [],
   "source": [
    "with open('mlb_stats.pickle', 'wb') as file_out:\n",
    "    pickle.dump(df, file_out)"
   ]
  }
 ],
 "metadata": {
  "kernelspec": {
   "display_name": "Python 3",
   "language": "python",
   "name": "python3"
  },
  "language_info": {
   "codemirror_mode": {
    "name": "ipython",
    "version": 3
   },
   "file_extension": ".py",
   "mimetype": "text/x-python",
   "name": "python",
   "nbconvert_exporter": "python",
   "pygments_lexer": "ipython3",
   "version": "3.7.4"
  }
 },
 "nbformat": 4,
 "nbformat_minor": 2
}
